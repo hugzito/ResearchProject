{
 "cells": [
  {
   "cell_type": "code",
   "execution_count": 5,
   "metadata": {},
   "outputs": [],
   "source": [
    "## imports\n",
    "import pandas as pd\n",
    "import numpy as np\n",
    "import re"
   ]
  },
  {
   "cell_type": "code",
   "execution_count": null,
   "metadata": {},
   "outputs": [],
   "source": [
    "### load raw data from data folder\n",
    "\n",
    "housing_listings_na = pd.read_csv('../data/listings_NA.csv')\n",
    "norways_listings = pd.read_csv('../data/realestate.csv')\n",
    "\n",
    "\n",
    "\n",
    "### clean zillow listings\n",
    "### remove any columns not related to address, price or area in na listings\n",
    "na_cols = ['price', 'address', 'area', 'latLong.longitude', 'latLong.latitude']\n",
    "housing_listings_na = housing_listings_na[na_cols]\n",
    "housing_listings_na['price'] = housing_listings_na['price'].str.replace('$', '').str.replace(',', '').str.replace('From', '').str.replace('K', '000')\n",
    "norways_listings['price'] = norways_listings['price'].str.replace('Totalpris:', '').str.replace(' ', '').str.replace(',', '').str.replace('\\xa0','')\n",
    "norways_listings['area'] = norways_listings['area'].str.replace('\\xa0','').str.replace('kr', '')\n",
    "\n",
    "\n",
    "\n",
    "### assign country to each listing in na listings\n",
    "\n",
    "countries = []\n",
    "for address in housing_listings_na['address']:\n",
    "    try:\n",
    "        if 'Vancouver' in address:\n",
    "            countries.append('Canada')\n",
    "        else :\n",
    "            countries.append('USA')\n",
    "    except:\n",
    "        countries.append('USA')\n",
    "        continue\n",
    "housing_listings_na['country'] = countries\n",
    "norways_listings['country'] = 'Norway'\n",
    "\n",
    "for listing in norways_listings['price']:\n",
    "    if '-' in listing:\n",
    "        norways_listings['price'] = norways_listings['price'].str.split('-').str[0]\n",
    "\n",
    "### remove any rows with non-numeric values in price column\n",
    "norways_listings = norways_listings[norways_listings['price'].str.isnumeric()]\n",
    "\n",
    "\n",
    "\n",
    "### convert listings to euros\n",
    "\n",
    "def price_converter(row):\n",
    "    if row['country'] == 'USA':\n",
    "        return float(row['price']) * 0.91\n",
    "    elif row['country'] == 'Canada':\n",
    "        return float(row['price']) * 0.67\n",
    "    else:\n",
    "        return float(row['price']) * 0.086\n",
    "\n",
    "housing_listings_na['price'] = housing_listings_na.apply(price_converter, axis=1)\n",
    "norways_listings['price'] = norways_listings.apply(price_converter, axis=1)\n",
    "\n",
    "### convert area to square meters in na listings\n",
    "def area_converter(row):\n",
    "    return float(row['area']) * 0.092903\n",
    "\n",
    "housing_listings_na['area'] = housing_listings_na.apply(area_converter, axis=1)\n",
    "\n",
    "norways_listings['area'] = norways_listings['area'].apply(lambda x: x.split('-')[0] if '-' in x else x).astype(float)\n",
    "\n",
    "\n",
    "### create price per square meter column\n",
    "housing_listings_na['price_per_sqm'] = housing_listings_na['price'] / housing_listings_na['area']\n",
    "norways_listings['price_per_sqm'] = norways_listings['price'] / norways_listings['area']\n",
    "\n",
    "print(housing_listings_na.head())\n",
    "print(norways_listings.head())"
   ]
  },
  {
   "cell_type": "code",
   "execution_count": 7,
   "metadata": {},
   "outputs": [],
   "source": [
    "# save to new cleaned csv files\n",
    "housing_listings_na.to_csv('../data/clean/listings_NA.csv', index=False)\n",
    "norways_listings.to_csv('../data/clean/norway_listings.csv', index=False)"
   ]
  },
  {
   "cell_type": "code",
   "execution_count": null,
   "metadata": {},
   "outputs": [],
   "source": []
  }
 ],
 "metadata": {
  "kernelspec": {
   "display_name": ".venv",
   "language": "python",
   "name": "python3"
  },
  "language_info": {
   "codemirror_mode": {
    "name": "ipython",
    "version": 3
   },
   "file_extension": ".py",
   "mimetype": "text/x-python",
   "name": "python",
   "nbconvert_exporter": "python",
   "pygments_lexer": "ipython3",
   "version": "3.10.2"
  }
 },
 "nbformat": 4,
 "nbformat_minor": 2
}
